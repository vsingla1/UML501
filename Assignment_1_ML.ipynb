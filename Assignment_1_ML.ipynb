{
  "nbformat": 4,
  "nbformat_minor": 0,
  "metadata": {
    "colab": {
      "provenance": []
    },
    "kernelspec": {
      "name": "python3",
      "display_name": "Python 3"
    },
    "language_info": {
      "name": "python"
    }
  },
  "cells": [
    {
      "cell_type": "code",
      "execution_count": null,
      "metadata": {
        "colab": {
          "base_uri": "https://localhost:8080/"
        },
        "id": "jOevXq2h8gtw",
        "outputId": "fed3c338-f964-47db-c645-a613677a501b"
      },
      "outputs": [
        {
          "output_type": "stream",
          "name": "stdout",
          "text": [
            "Reversed: [5 4 6 3 2 1]\n"
          ]
        }
      ],
      "source": [
        "# Question1a\n",
        "import numpy as np\n",
        "arr = np.array([1, 2, 3, 6, 4, 5])\n",
        "print(\"Reversed:\", arr[::-1])\n"
      ]
    },
    {
      "cell_type": "code",
      "source": [
        "# Question1b\n",
        "array1 = np.array([[1, 2, 3], [2, 4, 5], [1, 2, 3]])\n",
        "print(array1.ravel())\n",
        "print(array1.flatten())"
      ],
      "metadata": {
        "colab": {
          "base_uri": "https://localhost:8080/"
        },
        "id": "pq35IJ4wwz8S",
        "outputId": "e855afaa-ea5f-4346-9736-ae32b2255fda"
      },
      "execution_count": null,
      "outputs": [
        {
          "output_type": "stream",
          "name": "stdout",
          "text": [
            "[1 2 3 2 4 5 1 2 3]\n",
            "[1 2 3 2 4 5 1 2 3]\n"
          ]
        }
      ]
    },
    {
      "cell_type": "code",
      "source": [
        "#Question1c\n",
        "arr1 = np.array([[1, 2], [3, 4]])\n",
        "arr2 = np.array([[1, 2], [3, 4]])\n",
        "np.array_equal(arr1, arr2)\n"
      ],
      "metadata": {
        "colab": {
          "base_uri": "https://localhost:8080/"
        },
        "id": "H2rOi3IZw4uW",
        "outputId": "9d983162-a45c-41ff-cb6a-b3fe6fe67fc2"
      },
      "execution_count": null,
      "outputs": [
        {
          "output_type": "execute_result",
          "data": {
            "text/plain": [
              "True"
            ]
          },
          "metadata": {},
          "execution_count": 3
        }
      ]
    },
    {
      "cell_type": "code",
      "source": [
        "# Question1d\n",
        "x = np.array([1,2,3,4,5,1,2,1,1,1])\n",
        "from collections import Counter\n",
        "most_common = Counter(x).most_common(1)[0][0]\n",
        "print(\"Most frequent:\", most_common)\n",
        "print(\"Indices:\", np.where(x == most_common))"
      ],
      "metadata": {
        "colab": {
          "base_uri": "https://localhost:8080/"
        },
        "id": "4kbOYQbVw7ai",
        "outputId": "9722925f-d307-464f-8c9f-17b4ade2ae9e"
      },
      "execution_count": null,
      "outputs": [
        {
          "output_type": "stream",
          "name": "stdout",
          "text": [
            "Most frequent: 1\n",
            "Indices: (array([0, 5, 7, 8, 9]),)\n"
          ]
        }
      ]
    },
    {
      "cell_type": "code",
      "source": [
        "# q1 e\n",
        "gfg = np.matrix('[4, 1, 9; 12, 3, 1; 4, 5, 6]')\n",
        "\n",
        "# i. Sum of all elements\n",
        "total_sum = np.sum(gfg)\n",
        "\n",
        "# ii. Row-wise sum\n",
        "row_sum = np.sum(gfg, axis=1)\n",
        "\n",
        "# iii. Column-wise sum\n",
        "col_sum = np.sum(gfg, axis=0)\n",
        "\n",
        "print(total_sum)\n",
        "print(row_sum)\n",
        "print(col_sum)"
      ],
      "metadata": {
        "colab": {
          "base_uri": "https://localhost:8080/"
        },
        "id": "c-Rayrdew_uV",
        "outputId": "9c9db637-d07f-4016-fa3e-42793b1839d0"
      },
      "execution_count": null,
      "outputs": [
        {
          "output_type": "stream",
          "name": "stdout",
          "text": [
            "45\n",
            "[[14]\n",
            " [16]\n",
            " [15]]\n",
            "[[20  9 16]]\n"
          ]
        }
      ]
    },
    {
      "cell_type": "code",
      "source": [
        "import numpy as np\n",
        "\n",
        "n_array = np.array([[55, 25, 15],\n",
        "                    [30, 44,  2],\n",
        "                    [11, 45, 77]])\n",
        "\n",
        "# i. Sum of diagonal elements (Trace)\n",
        "diag_sum = np.trace(n_array)\n",
        "\n",
        "# ii. Eigenvalues and iii. Eigenvectors\n",
        "eigenvalues, eigenvectors = np.linalg.eig(n_array)\n",
        "\n",
        "# iv. Inverse of matrix\n",
        "inverse_matrix = np.linalg.inv(n_array)\n",
        "\n",
        "# v. Determinant of matrix\n",
        "determinant = np.linalg.det(n_array)\n",
        "\n",
        "# Print results\n",
        "print(\"i. Sum of diagonal elements:\", diag_sum)\n",
        "print(\"ii. Eigenvalues:\", eigenvalues)\n",
        "print(\"iii. Eigenvectors:\\n\", eigenvectors)\n",
        "print(\"iv. Inverse of matrix:\\n\", inverse_matrix)\n",
        "print(\"v. Determinant of matrix:\", determinant)\n"
      ],
      "metadata": {
        "colab": {
          "base_uri": "https://localhost:8080/"
        },
        "id": "2GVcU60pxDL8",
        "outputId": "02afcb51-4847-4db3-ef39-ae46db094036"
      },
      "execution_count": null,
      "outputs": [
        {
          "output_type": "stream",
          "name": "stdout",
          "text": [
            "i. Sum of diagonal elements: 176\n",
            "ii. Eigenvalues: [98.16835147 28.097044   49.73460452]\n",
            "iii. Eigenvectors:\n",
            " [[ 0.4574917   0.34637121 -0.15017693]\n",
            " [ 0.28447814 -0.72784061 -0.4852124 ]\n",
            " [ 0.84248058  0.59184038  0.8614034 ]]\n",
            "iv. Inverse of matrix:\n",
            " [[ 0.02404141 -0.00911212 -0.00444671]\n",
            " [-0.01667882  0.02966905  0.0024785 ]\n",
            " [ 0.00631287 -0.01603732  0.01217379]]\n",
            "v. Determinant of matrix: 137180.0000000001\n"
          ]
        }
      ]
    },
    {
      "cell_type": "code",
      "source": [
        "import numpy as np\n",
        "\n",
        "# (i)\n",
        "p1 = np.array([[1, 2], [2, 3]])\n",
        "q1 = np.array([[4, 5], [6, 7]])\n",
        "\n",
        "# Matrix multiplication\n",
        "mul1 = np.matmul(p1, q1)\n",
        "\n",
        "# Covariance (flattened arrays)\n",
        "cov1 = np.cov(p1.flatten(), q1.flatten())\n",
        "\n",
        "print(\"Matrix Multiplication:\\n\", mul1)\n",
        "print(\"Covariance between p1 and q1:\\n\", cov1)\n",
        "\n",
        "# (ii)\n",
        "p2 = np.array([[1, 2], [2, 3], [4, 5]])\n",
        "q2 = np.array([[4, 5, 1], [6, 7, 2]])\n",
        "\n",
        "# Matrix multiplication\n",
        "mul2 = np.matmul(p2, q2)\n",
        "\n",
        "# Covariance (flattened arrays)\n",
        "cov2 = np.cov(p2.flatten(), q2.flatten())\n",
        "\n",
        "print(\" Matrix Multiplication:\\n\", mul2)\n",
        "print(\"Covariance between p2 and q2:\\n\", cov2)\n"
      ],
      "metadata": {
        "colab": {
          "base_uri": "https://localhost:8080/"
        },
        "id": "phOWOSiNx02Y",
        "outputId": "2380ac0b-462e-468f-eb76-e1bd0dc6765f"
      },
      "execution_count": null,
      "outputs": [
        {
          "output_type": "stream",
          "name": "stdout",
          "text": [
            "Matrix Multiplication:\n",
            " [[16 19]\n",
            " [26 31]]\n",
            "Covariance between p1 and q1:\n",
            " [[0.66666667 1.        ]\n",
            " [1.         1.66666667]]\n",
            " Matrix Multiplication:\n",
            " [[16 19  5]\n",
            " [26 31  8]\n",
            " [46 55 14]]\n",
            "Covariance between p2 and q2:\n",
            " [[2.16666667 0.23333333]\n",
            " [0.23333333 5.36666667]]\n"
          ]
        }
      ]
    },
    {
      "cell_type": "code",
      "source": [
        "x = np.array([[2, 3, 4], [3, 2, 9]])\n",
        "y = np.array([[1, 5, 0], [5, 10, 3]])\n",
        "\n",
        "# Inner product\n",
        "inner = np.inner(x, y)\n",
        "\n",
        "# Outer product (flattened)\n",
        "outer = np.outer(x, y)\n",
        "\n",
        "# Cartesian product\n",
        "cartesian = np.array(np.meshgrid(x.flatten(), y.flatten())).T.reshape(-1, 2)\n",
        "\n",
        "print(inner)\n",
        "print(outer)\n",
        "print(cartesian)\n"
      ],
      "metadata": {
        "colab": {
          "base_uri": "https://localhost:8080/"
        },
        "id": "tGpOyGFdyOPY",
        "outputId": "4a10ed86-7118-4da2-ef43-25d94223bfbb"
      },
      "execution_count": null,
      "outputs": [
        {
          "output_type": "stream",
          "name": "stdout",
          "text": [
            "[[17 52]\n",
            " [13 62]]\n",
            "[[ 2 10  0 10 20  6]\n",
            " [ 3 15  0 15 30  9]\n",
            " [ 4 20  0 20 40 12]\n",
            " [ 3 15  0 15 30  9]\n",
            " [ 2 10  0 10 20  6]\n",
            " [ 9 45  0 45 90 27]]\n",
            "[[ 2  1]\n",
            " [ 2  5]\n",
            " [ 2  0]\n",
            " [ 2  5]\n",
            " [ 2 10]\n",
            " [ 2  3]\n",
            " [ 3  1]\n",
            " [ 3  5]\n",
            " [ 3  0]\n",
            " [ 3  5]\n",
            " [ 3 10]\n",
            " [ 3  3]\n",
            " [ 4  1]\n",
            " [ 4  5]\n",
            " [ 4  0]\n",
            " [ 4  5]\n",
            " [ 4 10]\n",
            " [ 4  3]\n",
            " [ 3  1]\n",
            " [ 3  5]\n",
            " [ 3  0]\n",
            " [ 3  5]\n",
            " [ 3 10]\n",
            " [ 3  3]\n",
            " [ 2  1]\n",
            " [ 2  5]\n",
            " [ 2  0]\n",
            " [ 2  5]\n",
            " [ 2 10]\n",
            " [ 2  3]\n",
            " [ 9  1]\n",
            " [ 9  5]\n",
            " [ 9  0]\n",
            " [ 9  5]\n",
            " [ 9 10]\n",
            " [ 9  3]]\n"
          ]
        }
      ]
    },
    {
      "cell_type": "code",
      "source": [
        "# Q2\n",
        "array = np.array([[1, -2, 3],[-4, 5, -6]])\n",
        "\n",
        "# i. Absolute\n",
        "abs_array = np.abs(array)\n",
        "\n",
        "# ii. Percentiles\n",
        "flat = array.flatten()\n",
        "percentiles = np.percentile(flat, [25, 50, 75])\n",
        "col_percentiles = np.percentile(array, [25, 50, 75], axis=0)\n",
        "row_percentiles = np.percentile(array, [25, 50, 75], axis=1)\n",
        "\n",
        "print(abs_array)\n",
        "print(percentiles)\n",
        "print(col_percentiles)\n",
        "print(row_percentiles)\n",
        "\n",
        "# iii. Stats\n",
        "mean = np.mean(flat)\n",
        "median = np.median(flat)\n",
        "std = np.std(flat)\n",
        "\n",
        "col_mean = np.mean(array, axis=0)\n",
        "row_mean = np.mean(array, axis=1)\n",
        "\n",
        "print(mean, median, std)\n",
        "print(col_mean)\n",
        "print(row_mean)\n"
      ],
      "metadata": {
        "colab": {
          "base_uri": "https://localhost:8080/"
        },
        "id": "IrYrXbIYyrM9",
        "outputId": "8b32fded-6c96-401d-fe76-b4ed78d1f122"
      },
      "execution_count": null,
      "outputs": [
        {
          "output_type": "stream",
          "name": "stdout",
          "text": [
            "[[1 2 3]\n",
            " [4 5 6]]\n",
            "[-3.5 -0.5  2.5]\n",
            "[[-2.75 -0.25 -3.75]\n",
            " [-1.5   1.5  -1.5 ]\n",
            " [-0.25  3.25  0.75]]\n",
            "[[-0.5 -5. ]\n",
            " [ 1.  -4. ]\n",
            " [ 2.   0.5]]\n",
            "-0.5 -0.5 3.8622100754188224\n",
            "[-1.5  1.5 -1.5]\n",
            "[ 0.66666667 -1.66666667]\n"
          ]
        }
      ]
    },
    {
      "cell_type": "code",
      "source": [
        "a = np.array([-1.8, -1.6, -0.5, 0.5, 1.6, 1.8, 3.0])\n",
        "\n",
        "floor_vals = np.floor(a)\n",
        "ceil_vals = np.ceil(a)\n",
        "trunc_vals = np.trunc(a)\n",
        "round_vals = np.round(a)\n",
        "\n",
        "print(floor_vals)\n",
        "print(ceil_vals)\n",
        "print(trunc_vals)\n",
        "print(round_vals)\n"
      ],
      "metadata": {
        "colab": {
          "base_uri": "https://localhost:8080/"
        },
        "id": "w4jsZS3gyskY",
        "outputId": "16107312-0cf2-43fb-a6ee-55ae09ae42be"
      },
      "execution_count": null,
      "outputs": [
        {
          "output_type": "stream",
          "name": "stdout",
          "text": [
            "[-2. -2. -1.  0.  1.  1.  3.]\n",
            "[-1. -1. -0.  1.  2.  2.  3.]\n",
            "[-1. -1. -0.  0.  1.  1.  3.]\n",
            "[-2. -2. -0.  0.  2.  2.  3.]\n"
          ]
        }
      ]
    },
    {
      "cell_type": "code",
      "source": [
        "import numpy as np\n",
        "\n",
        "array = np.array([10, 52, 62, 16, 16, 54, 453])\n",
        "\n",
        "# i. Sorted array\n",
        "sorted_array = np.sort(array)\n",
        "\n",
        "# ii. Indices of sorted array\n",
        "indices_sorted = np.argsort(array)\n",
        "\n",
        "# iii. 4 smallest elements\n",
        "smallest_4 = np.sort(array)[:4]\n",
        "\n",
        "# iv. 5 largest elements\n",
        "largest_5 = np.sort(array)[-5:]\n",
        "\n",
        "print(\"i. Sorted array:\", sorted_array)\n",
        "print(\"ii. Indices of sorted array:\", indices_sorted)\n",
        "print(\"iii. 4 smallest elements:\", smallest_4)\n",
        "print(\"iv. 5 largest elements:\", largest_5)\n"
      ],
      "metadata": {
        "colab": {
          "base_uri": "https://localhost:8080/"
        },
        "id": "XOUel4lyyvZw",
        "outputId": "a5d196e2-2b8f-4770-f6cd-f14b8ed95534"
      },
      "execution_count": null,
      "outputs": [
        {
          "output_type": "stream",
          "name": "stdout",
          "text": [
            "i. Sorted array: [ 10  16  16  52  54  62 453]\n",
            "ii. Indices of sorted array: [0 3 4 1 5 2 6]\n",
            "iii. 4 smallest elements: [10 16 16 52]\n",
            "iv. 5 largest elements: [ 16  52  54  62 453]\n"
          ]
        }
      ]
    },
    {
      "cell_type": "code",
      "source": [
        "# Q4\n",
        "from PIL import Image\n",
        "\n",
        "def img_to_array(path):\n",
        "    img = Image.open(path)\n",
        "    arr = np.array(img)\n",
        "    if len(arr.shape) == 2:\n",
        "        np.savetxt(\"gray_image.txt\", arr, fmt='%d')\n",
        "        print(\"Saved grayscale image array.\")\n",
        "    else:\n",
        "        r, g, b = arr[:,:,0], arr[:,:,1], arr[:,:,2]\n",
        "        np.savetxt(\"rgb_r.txt\", r, fmt='%d')\n",
        "        np.savetxt(\"rgb_g.txt\", g, fmt='%d')\n",
        "        np.savetxt(\"rgb_b.txt\", b, fmt='%d')\n",
        "        print(\"Saved RGB image arrays.\")\n"
      ],
      "metadata": {
        "id": "zM_PbqsVy0tN"
      },
      "execution_count": null,
      "outputs": []
    },
    {
      "cell_type": "code",
      "metadata": {
        "colab": {
          "base_uri": "https://localhost:8080/"
        },
        "id": "4e4a8963",
        "outputId": "edd3370d-67fc-4693-c1c6-abf18d7d7fa5"
      },
      "source": [
        "\n",
        "img_to_array('/content/tree-on-a-hill-grayscale.png')\n",
        "img_to_array('/content/Desktop-hd-3d-nature-images-download.jpg')"
      ],
      "execution_count": null,
      "outputs": [
        {
          "output_type": "stream",
          "name": "stdout",
          "text": [
            "Saved grayscale image array.\n",
            "Saved RGB image arrays.\n"
          ]
        }
      ]
    },
    {
      "cell_type": "code",
      "metadata": {
        "colab": {
          "base_uri": "https://localhost:8080/"
        },
        "id": "c6d7b062",
        "outputId": "c80e314b-0c6b-44fb-c125-67b89ae741a9"
      },
      "source": [
        "# Load grayscale\n",
        "gray_image = np.loadtxt(\"gray_image.txt\")\n",
        "\n",
        "# Load RGB\n",
        "r = np.loadtxt(\"rgb_r.txt\")\n",
        "g = np.loadtxt(\"rgb_g.txt\")\n",
        "b = np.loadtxt(\"rgb_b.txt\")\n",
        "\n",
        "print(gray_image.shape)\n",
        "print(r.shape, g.shape, b.shape)"
      ],
      "execution_count": null,
      "outputs": [
        {
          "output_type": "stream",
          "name": "stdout",
          "text": [
            "(660, 440)\n",
            "(1920, 2560) (1920, 2560) (1920, 2560)\n"
          ]
        }
      ]
    }
  ]
}